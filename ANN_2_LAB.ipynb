{
 "cells": [
  {
   "cell_type": "code",
   "execution_count": 1,
   "id": "7456ca96",
   "metadata": {},
   "outputs": [
    {
     "name": "stdout",
     "output_type": "stream",
     "text": [
      "x1 x2 | Output\n",
      " 0  0 |   0\n",
      " 0  1 |   0\n",
      " 1  0 |   1\n",
      " 1  1 |   0\n"
     ]
    }
   ],
   "source": [
    "# McCulloch-Pitts Neuron for ANDNOT function\n",
    "\n",
    "def mc_pitts_andnot(x1, x2):\n",
    "    # Assign weights\n",
    "    w1 = 1\n",
    "    w2 = -1\n",
    "    # Set threshold\n",
    "    threshold = 1\n",
    "\n",
    "    # Calculate weighted sum\n",
    "    net_input = w1 * x1 + w2 * x2\n",
    "\n",
    "    # Activation function (step function)\n",
    "    if net_input >= threshold:\n",
    "        return 1\n",
    "    else:\n",
    "        return 0\n",
    "\n",
    "# Test the ANDNOT function\n",
    "print(\"x1 x2 | Output\")\n",
    "for x1 in [0, 1]:\n",
    "    for x2 in [0, 1]:\n",
    "        output = mc_pitts_andnot(x1, x2)\n",
    "        print(f\" {x1}  {x2} |   {output}\")\n"
   ]
  }
 ],
 "metadata": {
  "kernelspec": {
   "display_name": "Python 3",
   "language": "python",
   "name": "python3"
  },
  "language_info": {
   "codemirror_mode": {
    "name": "ipython",
    "version": 3
   },
   "file_extension": ".py",
   "mimetype": "text/x-python",
   "name": "python",
   "nbconvert_exporter": "python",
   "pygments_lexer": "ipython3",
   "version": "3.13.0"
  }
 },
 "nbformat": 4,
 "nbformat_minor": 5
}

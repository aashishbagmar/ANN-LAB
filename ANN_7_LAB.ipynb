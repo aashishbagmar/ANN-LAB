{
 "cells": [
  {
   "cell_type": "code",
   "execution_count": 5,
   "id": "ce5ffcff",
   "metadata": {},
   "outputs": [
    {
     "name": "stdout",
     "output_type": "stream",
     "text": [
      "Epoch 0, Loss: 0.49966374052623197\n",
      "Epoch 1000, Loss: 0.4926536527307378\n",
      "Epoch 2000, Loss: 0.44394332991291885\n",
      "Epoch 3000, Loss: 0.38712863012660365\n",
      "Epoch 4000, Loss: 0.35639856162471906\n",
      "Epoch 5000, Loss: 0.28868550397113535\n",
      "Epoch 6000, Loss: 0.1567940030107768\n",
      "Epoch 7000, Loss: 0.10529186959522607\n",
      "Epoch 8000, Loss: 0.08214113003245958\n",
      "Epoch 9000, Loss: 0.06890638241535345\n",
      "\n",
      "Final Output After Training:\n",
      "Input: [0 0] -> Predicted Output: [0.04989621]\n",
      "Input: [0 1] -> Predicted Output: [0.94249711]\n",
      "Input: [1 0] -> Predicted Output: [0.94196138]\n",
      "Input: [1 1] -> Predicted Output: [0.07546161]\n"
     ]
    }
   ],
   "source": [
    "import numpy as np\n",
    "\n",
    "def sigmoid(x): return 1 / (1 + np.exp(-x))\n",
    "def sigmoid_derivative(x): return x * (1 - x)\n",
    "\n",
    "# XOR Input and Output\n",
    "X = np.array([[0, 0], [0, 1], [1, 0], [1, 1]])\n",
    "y = np.array([[0], [1], [1], [0]])\n",
    "\n",
    "np.random.seed(1)\n",
    "\n",
    "# Initialize weights and biases\n",
    "hidden_weights = np.random.uniform(-1, 1, (2, 2))\n",
    "hidden_bias = np.random.uniform(-1, 1, (1, 2))\n",
    "output_weights = np.random.uniform(-1, 1, (2, 1))\n",
    "output_bias = np.random.uniform(-1, 1, (1, 1))\n",
    "\n",
    "# Training parameters\n",
    "learning_rate = 0.1\n",
    "epochs = 10000\n",
    "\n",
    "# Training loop\n",
    "for epoch in range(epochs):\n",
    "    # Forward propagation\n",
    "    hidden_output = sigmoid(np.dot(X, hidden_weights) + hidden_bias)\n",
    "    output = sigmoid(np.dot(hidden_output, output_weights) + output_bias)\n",
    "\n",
    "    # Backpropagation\n",
    "    output_delta = (y - output) * sigmoid_derivative(output)\n",
    "    hidden_delta = output_delta.dot(output_weights.T) * sigmoid_derivative(hidden_output)\n",
    "\n",
    "    # Update weights and biases\n",
    "    output_weights += hidden_output.T.dot(output_delta) * learning_rate\n",
    "    output_bias += np.sum(output_delta, axis=0, keepdims=True) * learning_rate\n",
    "    hidden_weights += X.T.dot(hidden_delta) * learning_rate\n",
    "    hidden_bias += np.sum(hidden_delta, axis=0, keepdims=True) * learning_rate\n",
    "\n",
    "    if epoch % 1000 == 0:\n",
    "        print(f'Epoch {epoch}, Loss: {np.mean(np.abs(y - output))}')\n",
    "\n",
    "# Final output after training\n",
    "print(\"\\nFinal Output After Training:\")\n",
    "for i in range(len(X)):\n",
    "    print(f\"Input: {X[i]} -> Predicted Output: {output[i]}\")\n"
   ]
  }
 ],
 "metadata": {
  "kernelspec": {
   "display_name": "Python 3",
   "language": "python",
   "name": "python3"
  },
  "language_info": {
   "codemirror_mode": {
    "name": "ipython",
    "version": 3
   },
   "file_extension": ".py",
   "mimetype": "text/x-python",
   "name": "python",
   "nbconvert_exporter": "python",
   "pygments_lexer": "ipython3",
   "version": "3.13.0"
  }
 },
 "nbformat": 4,
 "nbformat_minor": 5
}

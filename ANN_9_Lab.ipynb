{
 "cells": [
  {
   "cell_type": "code",
   "execution_count": 18,
   "id": "a19cf31e",
   "metadata": {},
   "outputs": [
    {
     "name": "stdout",
     "output_type": "stream",
     "text": [
      "Input Pattern\t\tMatched Cluster\n",
      "-----------------------------------\n",
      "[1 0 0 0 1 0 1]         Cluster 0\n",
      "[0 1 0 0 0 1 1]         Cluster 1\n",
      "[0 0 1 0 1 1 0]         Cluster 2\n",
      "[0 0 0 1 0 1 1]         Cluster 3\n",
      "[1 1 0 0 0 1 0]         Cluster -1\n",
      "[0 0 0 0 0 0 1]         Cluster 0\n"
     ]
    }
   ],
   "source": [
    "import numpy as np\n",
    "\n",
    "class ART:\n",
    "    def __init__(self, data, rho):\n",
    "        self.data = data\n",
    "        self.rho = rho\n",
    "        self.weights = []\n",
    "    \n",
    "    def match(self, x, w):\n",
    "        return np.sum(np.minimum(x, w)) / np.sum(x) >= self.rho\n",
    "\n",
    "    def train(self):\n",
    "        for x in self.data:\n",
    "            for i, w in enumerate(self.weights):\n",
    "                if self.match(x, w):\n",
    "                    self.weights[i] = np.minimum(w, x)\n",
    "                    break\n",
    "            else:\n",
    "                self.weights.append(x)\n",
    "\n",
    "    def predict(self, x):\n",
    "        for i, w in enumerate(self.weights):\n",
    "            if self.match(x, w):\n",
    "                return i\n",
    "        return -1\n",
    "\n",
    "patterns = np.array([\n",
    "    [1,0,0,0,1,0,1],\n",
    "    [0,1,0,0,0,1,1],\n",
    "    [0,0,1,0,1,1,0],\n",
    "    [0,0,0,1,0,1,1]\n",
    "])\n",
    "\n",
    "net = ART(patterns, rho=0.7)\n",
    "net.train()\n",
    "\n",
    "tests = np.array([\n",
    "    [1,0,0,0,1,0,1],\n",
    "    [0,1,0,0,0,1,1],\n",
    "    [0,0,1,0,1,1,0],\n",
    "    [0,0,0,1,0,1,1],\n",
    "    [1,1,0,0,0,1,0],\n",
    "    [0,0,0,0,0,0,1]\n",
    "])\n",
    "\n",
    "\n",
    "print(\"Input Pattern\\t\\tMatched Cluster\")\n",
    "print(\"-----------------------------------\")\n",
    "\n",
    "for x in tests:\n",
    "    print(f\"{x}         Cluster {net.predict(x)}\")\n",
    "# for pattern in test_patterns:\n",
    "#     matched_cluster = network.predict(pattern)\n",
    "#     print(f\"{pattern}\\t\\t{matched_cluster}\")"
   ]
  }
 ],
 "metadata": {
  "kernelspec": {
   "display_name": "Python 3",
   "language": "python",
   "name": "python3"
  },
  "language_info": {
   "codemirror_mode": {
    "name": "ipython",
    "version": 3
   },
   "file_extension": ".py",
   "mimetype": "text/x-python",
   "name": "python",
   "nbconvert_exporter": "python",
   "pygments_lexer": "ipython3",
   "version": "3.13.0"
  }
 },
 "nbformat": 4,
 "nbformat_minor": 5
}

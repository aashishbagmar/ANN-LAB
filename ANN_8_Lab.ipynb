{
 "cells": [
  {
   "cell_type": "code",
   "execution_count": 3,
   "id": "1cbfa65a",
   "metadata": {},
   "outputs": [
    {
     "name": "stdout",
     "output_type": "stream",
     "text": [
      "Recalled patterns:\n",
      "Pattern 1: Input = [ 1 -1 -1 -1] -> Recalled = [0. 0. 0. 0.]\n",
      "Pattern 2: Input = [-1  1 -1 -1] -> Recalled = [0. 0. 0. 0.]\n",
      "Pattern 3: Input = [-1 -1  1 -1] -> Recalled = [0. 0. 0. 0.]\n",
      "Pattern 4: Input = [-1 -1 -1  1] -> Recalled = [0. 0. 0. 0.]\n"
     ]
    }
   ],
   "source": [
    "import numpy as np\n",
    "\n",
    "# Convert binary (0/1) to bipolar (-1/1)\n",
    "def to_bipolar(x):\n",
    "    return np.where(x == 0, -1, 1)\n",
    "\n",
    "# Hopfield Network Class\n",
    "class HopfieldNetwork:\n",
    "    def __init__(self, size):\n",
    "        self.size = size\n",
    "        self.weights = np.zeros((size, size))\n",
    "\n",
    "    def train(self, patterns):\n",
    "        for pattern in patterns:\n",
    "            pattern = pattern.reshape(-1, 1)\n",
    "            self.weights += np.dot(pattern, pattern.T)\n",
    "        np.fill_diagonal(self.weights, 0)  # No self-connection\n",
    "\n",
    "    def recall(self, input_pattern, steps=5):\n",
    "        pattern = input_pattern.copy()\n",
    "        for _ in range(steps):\n",
    "            pattern = np.sign(np.dot(self.weights, pattern))\n",
    "        return pattern\n",
    "\n",
    "# --- Main Program ---\n",
    "if __name__ == \"__main__\":\n",
    "    # Define 4 binary patterns and convert to bipolar\n",
    "    binary_patterns = np.array([\n",
    "        [1, 0, 0, 0],\n",
    "        [0, 1, 0, 0],\n",
    "        [0, 0, 1, 0],\n",
    "        [0, 0, 0, 1]\n",
    "    ])\n",
    "    \n",
    "    bipolar_patterns = np.array([to_bipolar(p) for p in binary_patterns])\n",
    "\n",
    "    # Create Hopfield Network with 4 neurons\n",
    "    hopfield_net = HopfieldNetwork(4)\n",
    "    \n",
    "    # Train the network with the patterns\n",
    "    hopfield_net.train(bipolar_patterns)\n",
    "\n",
    "    # Test recalling each pattern\n",
    "    print(\"Recalled patterns:\")\n",
    "    for i, pattern in enumerate(bipolar_patterns):\n",
    "        recalled = hopfield_net.recall(pattern.reshape(-1, 1))\n",
    "        print(f\"Pattern {i+1}: Input = {pattern} -> Recalled = {recalled.ravel()}\")\n"
   ]
  }
 ],
 "metadata": {
  "kernelspec": {
   "display_name": "Python 3",
   "language": "python",
   "name": "python3"
  },
  "language_info": {
   "codemirror_mode": {
    "name": "ipython",
    "version": 3
   },
   "file_extension": ".py",
   "mimetype": "text/x-python",
   "name": "python",
   "nbconvert_exporter": "python",
   "pygments_lexer": "ipython3",
   "version": "3.13.0"
  }
 },
 "nbformat": 4,
 "nbformat_minor": 5
}

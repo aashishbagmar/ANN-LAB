{
 "cells": [
  {
   "cell_type": "code",
   "execution_count": 1,
   "id": "0b6b66aa",
   "metadata": {},
   "outputs": [
    {
     "name": "stdout",
     "output_type": "stream",
     "text": [
      "Test 1: Predicted number is 1\n",
      "Test 2: Predicted number is 2\n",
      "Test 3: Predicted number is 39\n",
      "Test 4: Predicted number is 0\n"
     ]
    }
   ],
   "source": [
    "import numpy as np\n",
    "from sklearn.neural_network import MLPClassifier\n",
    "\n",
    "# Define training data\n",
    "X_train = np.array([\n",
    "    [[1, 1, 1],\n",
    "     [1, 0, 1],\n",
    "     [1, 0, 1],\n",
    "     [1, 0, 1],\n",
    "     [1, 1, 1]], # Number 0\n",
    "    [[0, 1, 0],\n",
    "     [0, 1, 0],\n",
    "     [0, 1, 0],\n",
    "     [0, 1, 0],\n",
    "     [0, 1, 0]], # Number 1\n",
    "    [[1, 1, 1],\n",
    "     [0, 0, 1],\n",
    "     [1, 1, 1],\n",
    "     [1, 0, 0],\n",
    "     [1, 1, 1]], # Number 2\n",
    "    [[1, 1, 1],\n",
    "     [1, 0, 1],\n",
    "     [1, 1, 1],\n",
    "     [0, 0, 1],\n",
    "     [1, 1, 1]]  # Number 39\n",
    "])\n",
    "\n",
    "# Flatten and reshape training data\n",
    "X_train_flat = X_train.reshape(len(X_train), -1)\n",
    "\n",
    "# Define Labels\n",
    "y_train = [0, 1, 2, 39]\n",
    "\n",
    "# Initialize and train MLPClassifier\n",
    "clf = MLPClassifier(hidden_layer_sizes=(10,), activation='relu', max_iter=1000)\n",
    "clf.fit(X_train_flat, y_train)\n",
    "\n",
    "# Test data\n",
    "X_test = np.array([\n",
    "    [[0, 1, 0],\n",
    "     [0, 1, 0],\n",
    "     [0, 1, 0],\n",
    "     [0, 1, 0],\n",
    "     [0, 1, 0]], # Number 1\n",
    "    [[1, 1, 1],\n",
    "     [0, 0, 1],\n",
    "     [1, 1, 1],\n",
    "     [1, 0, 0],\n",
    "     [1, 1, 1]], # Number 2\n",
    "    [[1, 1, 1],\n",
    "     [1, 0, 1],\n",
    "     [1, 1, 1],\n",
    "     [0, 0, 1],\n",
    "     [1, 1, 1]], # Number 39\n",
    "    [[1, 1, 1],\n",
    "     [1, 0, 1],\n",
    "     [1, 0, 1],\n",
    "     [1, 0, 1],\n",
    "     [1, 1, 1]]  # Number 0\n",
    "])\n",
    "\n",
    "# Flatten and reshape test data\n",
    "X_test_flat = X_test.reshape(len(X_test), -1)\n",
    "\n",
    "# Predict using trained model\n",
    "predictions = clf.predict(X_test_flat)\n",
    "\n",
    "# Print predictions\n",
    "for i, pred in enumerate(predictions):\n",
    "    print(f\"Test {i+1}: Predicted number is {pred}\")"
   ]
  }
 ],
 "metadata": {
  "kernelspec": {
   "display_name": "Python 3",
   "language": "python",
   "name": "python3"
  },
  "language_info": {
   "codemirror_mode": {
    "name": "ipython",
    "version": 3
   },
   "file_extension": ".py",
   "mimetype": "text/x-python",
   "name": "python",
   "nbconvert_exporter": "python",
   "pygments_lexer": "ipython3",
   "version": "3.13.0"
  }
 },
 "nbformat": 4,
 "nbformat_minor": 5
}

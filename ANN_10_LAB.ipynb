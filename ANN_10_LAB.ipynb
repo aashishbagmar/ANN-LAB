{
  "nbformat": 4,
  "nbformat_minor": 0,
  "metadata": {
    "colab": {
      "provenance": []
    },
    "kernelspec": {
      "name": "python3",
      "display_name": "Python 3"
    },
    "language_info": {
      "name": "python"
    }
  },
  "cells": [
    {
      "cell_type": "code",
      "execution_count": 4,
      "metadata": {
        "colab": {
          "base_uri": "https://localhost:8080/"
        },
        "id": "UTd_aFzR7YCA",
        "outputId": "530a34ea-1831-4332-a268-82894b2c48db"
      },
      "outputs": [
        {
          "output_type": "stream",
          "name": "stdout",
          "text": [
            "Downloading data from https://storage.googleapis.com/tensorflow/keras-applications/mobilenet_v2/mobilenet_v2_weights_tf_dim_ordering_tf_kernels_1.0_224.h5\n",
            "\u001b[1m14536120/14536120\u001b[0m \u001b[32m━━━━━━━━━━━━━━━━━━━━\u001b[0m\u001b[37m\u001b[0m \u001b[1m0s\u001b[0m 0us/step\n",
            "\u001b[1m1/1\u001b[0m \u001b[32m━━━━━━━━━━━━━━━━━━━━\u001b[0m\u001b[37m\u001b[0m \u001b[1m1s\u001b[0m 1s/step\n",
            "Downloading data from https://storage.googleapis.com/download.tensorflow.org/data/imagenet_class_index.json\n",
            "\u001b[1m35363/35363\u001b[0m \u001b[32m━━━━━━━━━━━━━━━━━━━━\u001b[0m\u001b[37m\u001b[0m \u001b[1m0s\u001b[0m 0us/step\n",
            "Predictions:\n",
            "go-kart: 40.41%\n",
            "racer: 17.50%\n",
            "lakeside: 5.98%\n",
            "Intersection over Union (IoU): 0.87\n",
            "Precision: 1.00\n",
            "Recall: 1.00\n"
          ]
        }
      ],
      "source": [
        "import numpy as np\n",
        "import cv2\n",
        "import tensorflow as tf\n",
        "from tensorflow.keras.applications import MobileNetV2\n",
        "from tensorflow.keras.preprocessing import image\n",
        "from tensorflow.keras.applications.mobilenet_v2 import preprocess_input, decode_predictions\n",
        "# Load pre-trained CNN model (MobileNetV2 for example)\n",
        "model = MobileNetV2(weights='imagenet')\n",
        "# Load and preprocess an image\n",
        "img_path = '/content/vid_4_860.jpg' # Provide your image file\n",
        "img = image.load_img(img_path, target_size=(224, 224))\n",
        "x = image.img_to_array(img)\n",
        "x = np.expand_dims(x, axis=0)\n",
        "x = preprocess_input(x)\n",
        "# Predict using CNN\n",
        "preds = model.predict(x)\n",
        "decoded_preds = decode_predictions(preds, top=3)[0]\n",
        "print(\"Predictions:\")\n",
        "for pred in decoded_preds:\n",
        "  print(f\"{pred[1]}: {pred[2]*100:.2f}%\")\n",
        "# --- Performance Evaluation Metrics ---\n",
        "# Example ground truth and prediction bounding boxes (x, y, width, height)\n",
        "gt_box = [50, 50, 150, 150] # Ground Truth Box\n",
        "pred_box = [60, 60, 140, 140] # Predicted Box\n",
        "# Function to calculate IoU\n",
        "def compute_iou(boxA, boxB):\n",
        "  xA = max(boxA[0], boxB[0])\n",
        "  yA = max(boxA[1], boxB[1])\n",
        "  xB = min(boxA[0]+boxA[2], boxB[0]+boxB[2])\n",
        "  yB = min(boxA[1]+boxA[3], boxB[1]+boxB[3])\n",
        "  interArea = max(0, xB - xA) * max(0, yB - yA)\n",
        "  boxAArea = boxA[2] * boxA[3]\n",
        "  boxBArea = boxB[2] * boxB[3]\n",
        "  iou = interArea / float(boxAArea + boxBArea - interArea)\n",
        "  return iou\n",
        "iou = compute_iou(gt_box, pred_box)\n",
        "print(f\"Intersection over Union (IoU): {iou:.2f}\")\n",
        "# Define thresholds\n",
        "iou_threshold = 0.5 # Common threshold\n",
        "# Determine TP, FP, FN\n",
        "if iou >= iou_threshold:\n",
        "  TP = 1\n",
        "  FP = 0\n",
        "  FN = 0\n",
        "else:\n",
        "  TP = 0\n",
        "  FP = 1\n",
        "  FN = 1\n",
        "# Precision and Recall\n",
        "precision = TP / (TP + FP) if (TP + FP) > 0 else 0\n",
        "recall = TP / (TP + FN) if (TP + FN) > 0 else 0\n",
        "print(f\"Precision: {precision:.2f}\")\n",
        "print(f\"Recall: {recall:.2f}\")"
      ]
    }
  ]
}
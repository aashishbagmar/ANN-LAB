{
 "cells": [
  {
   "cell_type": "code",
   "execution_count": 1,
   "id": "8f764961",
   "metadata": {},
   "outputs": [
    {
     "name": "stdout",
     "output_type": "stream",
     "text": [
      "Weight Matrix:\n",
      " [[2 2 4]\n",
      " [4 0 2]\n",
      " [2 2 0]\n",
      " [0 4 2]\n",
      " [0 4 2]\n",
      " [0 4 2]]\n",
      "\n",
      "Forward Testing:\n",
      "Y1 -> [1 1 1 1 1 1] Expected X 1\n",
      "Y2 -> [-1 -1 -1 -1 -1 -1] Expected X 2\n",
      "Y3 -> [ 1 -1 -1  1  1  1] Expected X 3\n",
      "Y4 -> [ 1  1 -1 -1 -1 -1] Expected X 4\n",
      "\n",
      "Backward Testing:\n",
      "X1 -> [1 1 1] Expected Y 1\n",
      "X2 -> [-1 -1 -1] Expected Y 2\n",
      "X3 -> [-1  1  1] Expected Y 3\n",
      "X4 -> [ 1 -1 -1] Expected Y 4\n"
     ]
    }
   ],
   "source": [
    "import numpy as np\n",
    "\n",
    "def calc_weight(X, Y):\n",
    "    return np.dot(X.T, Y)\n",
    "\n",
    "def bipolar_activation(matrix):\n",
    "    return np.where(matrix > 0, 1, -1)\n",
    "\n",
    "def forward(Y, weight):\n",
    "    return bipolar_activation(np.dot(Y, weight.T))\n",
    "\n",
    "def backward(X, weight):\n",
    "    return bipolar_activation(np.dot(X, weight))\n",
    "\n",
    "# Define all 4 vector pairs\n",
    "X = np.array([\n",
    "    [1, 1, 1, 1, 1, 1],\n",
    "    [-1, -1, -1, -1, -1, -1],\n",
    "    [1, -1, -1, 1, 1, 1],\n",
    "    [1, 1, -1, -1, -1, -1]\n",
    "])\n",
    "\n",
    "Y = np.array([\n",
    "    [1, 1, 1],\n",
    "    [-1, -1, -1],\n",
    "    [-1, 1, 1],\n",
    "    [1, -1, 1]\n",
    "])\n",
    "\n",
    "# Calculate weight matrix\n",
    "W = calc_weight(X, Y)\n",
    "print(\"Weight Matrix:\\n\", W)\n",
    "\n",
    "# Forward Test\n",
    "print(\"\\nForward Testing:\")\n",
    "for i in range(len(Y)):\n",
    "    print(f\"Y{i+1} ->\", forward(Y[i], W), \"Expected X\", i+1)\n",
    "\n",
    "# Backward Test\n",
    "print(\"\\nBackward Testing:\")\n",
    "for i in range(len(X)):\n",
    "    print(f\"X{i+1} ->\", backward(X[i], W), \"Expected Y\", i+1)\n"
   ]
  }
 ],
 "metadata": {
  "kernelspec": {
   "display_name": "Python 3",
   "language": "python",
   "name": "python3"
  },
  "language_info": {
   "codemirror_mode": {
    "name": "ipython",
    "version": 3
   },
   "file_extension": ".py",
   "mimetype": "text/x-python",
   "name": "python",
   "nbconvert_exporter": "python",
   "pygments_lexer": "ipython3",
   "version": "3.13.0"
  }
 },
 "nbformat": 4,
 "nbformat_minor": 5
}
